{
 "cells": [
  {
   "cell_type": "markdown",
   "metadata": {},
   "source": [
    "# Application Setup"
   ]
  },
  {
   "cell_type": "code",
   "execution_count": 1,
   "metadata": {
    "scrolled": true
   },
   "outputs": [],
   "source": [
    "import os\n",
    "import matplotlib.pyplot as plt\n",
    "import numpy as np\n",
    "%matplotlib inline\n",
    "import SimpleITK as sitk\n",
    "from myshow import myshow, myshow3d"
   ]
  },
  {
   "cell_type": "markdown",
   "metadata": {},
   "source": [
    "# Counting Function"
   ]
  },
  {
   "cell_type": "code",
   "execution_count": 6,
   "metadata": {
    "scrolled": true
   },
   "outputs": [],
   "source": [
    "def get_num_cells(img, sigma, level):\n",
    "    #get feature edge highlighted image\n",
    "    feature_img = sitk.GradientMagnitudeRecursiveGaussian(img, sigma=sigma)\n",
    "\n",
    "    #get watershed on edge highlighted image\n",
    "    ws_img = sitk.MorphologicalWatershed(feature_img, level=level, markWatershedLine=False, fullyConnected=False)\n",
    "\n",
    "    #get connected component of watershed, excluding background pixels, and number of objects found\n",
    "    ws_size = np.shape(sitk.GetArrayFromImage(ws_img))\n",
    "    cc = sitk.ConnectedComponentImageFilter()\n",
    "    seg = cc.Execute(ws_img!=ws_img[ws_size[1] - 1, ws_size[0] - 1])\n",
    "    \n",
    "    return cc.GetObjectCount()"
   ]
  },
  {
   "cell_type": "markdown",
   "metadata": {},
   "source": [
    "# GFP-GOWT1 mouse stem cells Data Set"
   ]
  },
  {
   "cell_type": "code",
   "execution_count": 8,
   "metadata": {
    "scrolled": false
   },
   "outputs": [
    {
     "name": "stdout",
     "output_type": "stream",
     "text": [
      "33\n",
      "30\n",
      "31\n",
      "33\n",
      "33\n",
      "34\n",
      "34\n",
      "33\n",
      "36\n",
      "38\n",
      "35\n",
      "37\n",
      "41\n",
      "33\n",
      "33\n",
      "34\n",
      "33\n",
      "33\n",
      "33\n",
      "34\n",
      "35\n",
      "36\n",
      "39\n",
      "34\n",
      "38\n",
      "35\n",
      "35\n",
      "33\n",
      "33\n",
      "41\n",
      "34\n",
      "37\n",
      "34\n",
      "38\n",
      "33\n",
      "37\n",
      "33\n",
      "36\n",
      "36\n",
      "33\n",
      "38\n",
      "32\n",
      "37\n",
      "34\n",
      "36\n",
      "33\n",
      "37\n",
      "32\n",
      "33\n",
      "33\n",
      "43\n",
      "40\n",
      "38\n",
      "35\n",
      "34\n",
      "35\n",
      "34\n",
      "32\n",
      "27\n",
      "33\n",
      "31\n",
      "37\n",
      "29\n",
      "33\n",
      "29\n",
      "29\n",
      "35\n",
      "32\n",
      "30\n",
      "37\n",
      "34\n",
      "34\n",
      "31\n",
      "36\n",
      "29\n",
      "28\n",
      "32\n",
      "30\n",
      "31\n",
      "35\n",
      "37\n",
      "36\n",
      "33\n",
      "34\n",
      "32\n",
      "33\n",
      "32\n",
      "32\n",
      "32\n",
      "36\n",
      "32\n",
      "28\n"
     ]
    }
   ],
   "source": [
    "image_directory_path = '../Project Data/Fluo-N2DH-GOWT1/01'\n",
    "directory = os.fsencode(image_directory_path)\n",
    "sigma, level = 0.00056, 875\n",
    "\n",
    "for file in os.listdir(directory):\n",
    "    filename = os.fsdecode(file)\n",
    "    if filename.endswith(\"tif\"): \n",
    "        img = sitk.ReadImage(os.path.join(image_directory_path, filename))\n",
    "        print(get_num_cells(img, sigma, level))"
   ]
  },
  {
   "cell_type": "markdown",
   "metadata": {},
   "source": [
    "# HeLa cells stably expressing H2b-GFP Data Set"
   ]
  },
  {
   "cell_type": "code",
   "execution_count": null,
   "metadata": {
    "scrolled": false
   },
   "outputs": [],
   "source": [
    "image_directory_path = '../Project Data/Fluo-N2DL-HeLa/01'\n",
    "directory = os.fsencode(image_directory_path)\n",
    "sigma, level = 0.00055, 10000\n",
    "\n",
    "for file in os.listdir(directory):\n",
    "    filename = os.fsdecode(file)\n",
    "    if filename.endswith(\"tif\"): \n",
    "        img = sitk.ReadImage(os.path.join(image_directory_path, filename))\n",
    "        print(get_num_cells(img, sigma, level))"
   ]
  },
  {
   "cell_type": "markdown",
   "metadata": {},
   "source": [
    "# Pancreatic Stem Cells on a Polystyrene substrate Data Set"
   ]
  },
  {
   "cell_type": "code",
   "execution_count": null,
   "metadata": {
    "scrolled": false
   },
   "outputs": [],
   "source": [
    "image_directory_path = '../Project Data/PhC-C2DL-PSC/01'\n",
    "directory = os.fsencode(image_directory_path)\n",
    "sigma, level = 0.0001, 5700\n",
    "\n",
    "for file in os.listdir(directory):\n",
    "    filename = os.fsdecode(file)\n",
    "    if filename.endswith(\"tif\"): \n",
    "        img = sitk.ReadImage(os.path.join(image_directory_path, filename))\n",
    "        print(get_num_cells(img, sigma, level))"
   ]
  },
  {
   "cell_type": "code",
   "execution_count": null,
   "metadata": {
    "scrolled": true
   },
   "outputs": [],
   "source": []
  }
 ],
 "metadata": {
  "kernelspec": {
   "display_name": "Python 3",
   "language": "python",
   "name": "python3"
  },
  "language_info": {
   "codemirror_mode": {
    "name": "ipython",
    "version": 3
   },
   "file_extension": ".py",
   "mimetype": "text/x-python",
   "name": "python",
   "nbconvert_exporter": "python",
   "pygments_lexer": "ipython3",
   "version": "3.6.8"
  }
 },
 "nbformat": 4,
 "nbformat_minor": 2
}
